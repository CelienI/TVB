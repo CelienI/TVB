{
 "cells": [
  {
   "cell_type": "code",
   "execution_count": 55,
   "id": "individual-buyer",
   "metadata": {},
   "outputs": [
    {
     "name": "stdout",
     "output_type": "stream",
     "text": [
      "Populating the interactive namespace from numpy and matplotlib\n"
     ]
    },
    {
     "name": "stderr",
     "output_type": "stream",
     "text": [
      "C:\\Users\\celie\\OneDrive\\Documenten\\TVB_Windows_2.2\\TVB_Distribution\\tvb_data\\Lib\\site-packages\\IPython\\core\\magics\\pylab.py:160: UserWarning: pylab import has clobbered these variables: ['fft', 'f', 'ifft']\n",
      "`%matplotlib` prevents importing * from pylab and numpy\n",
      "  \"\\n`%matplotlib` prevents importing * from pylab and numpy\"\n"
     ]
    }
   ],
   "source": [
    "%pylab nbagg"
   ]
  },
  {
   "cell_type": "code",
   "execution_count": 56,
   "id": "single-geometry",
   "metadata": {},
   "outputs": [],
   "source": [
    "from tvb.simulator.lab import *\n",
    "import h5py\n",
    "import os\n",
    "import matplotlib.pyplot as plt\n",
    "\n",
    "import scipy \n",
    "import scipy.fftpack\n",
    "import seaborn as sns\n",
    "\n",
    "import scipy \n",
    "import scipy.fftpack\n",
    "from scipy.fft import fft, ifft\n",
    "from scipy import signal\n",
    "from scipy.integrate import simps\n",
    "from fooof import FOOOF\n",
    "from scipy import stats\n",
    "\n",
    "import pandas as pd\n",
    "from statistics import stdev"
   ]
  },
  {
   "cell_type": "code",
   "execution_count": null,
   "id": "subtle-motor",
   "metadata": {},
   "outputs": [],
   "source": [
    "import statistics\n",
    "from rpy2.robjects.packages import importr\n",
    "from rpy2.robjects.vectors import FloatVector\n",
    "\n",
    "stats2 = importr('stats')\n",
    "def EFsize(c0, c1):\n",
    "    d = (mean(c0) - mean(c1)) / (sqrt((statistics.stdev(c0) ** 2 + statistics.stdev(c1) ** 2) / 2))\n",
    "    return d"
   ]
  },
  {
   "cell_type": "code",
   "execution_count": 57,
   "id": "radical-central",
   "metadata": {},
   "outputs": [],
   "source": [
    "os.chdir(\"C:/Users/celie/OneDrive - ugentbe/NOG NODIG/2de master/Masterproef/Wilson Cowan/DATA\")"
   ]
  },
  {
   "cell_type": "code",
   "execution_count": 58,
   "id": "surprising-russell",
   "metadata": {},
   "outputs": [
    {
     "name": "stdout",
     "output_type": "stream",
     "text": [
      "Keys: <KeysViewHDF5 ['areas', 'centres', 'cortical', 'hemispheres', 'orientations', 'region_labels', 'tract_lengths', 'weights']>\n"
     ]
    }
   ],
   "source": [
    "#import connectivity file to know which region corresponds to which index in the matrices\n",
    "filename = \"Connectivity.h5\"\n",
    "\n",
    "with h5py.File(filename, \"r\") as f:\n",
    "    # List all groups\n",
    "    print(\"Keys: %s\" % f.keys())\n",
    "    a_group_key = list(f.keys())[0]\n",
    "\n",
    "    # Get the data\n",
    "    regions_list = list(f['region_labels'])\n",
    "\n",
    "regions = np.array(regions_list)"
   ]
  },
  {
   "cell_type": "code",
   "execution_count": 82,
   "id": "complimentary-appendix",
   "metadata": {},
   "outputs": [],
   "source": [
    "mydir = \"C:/Users/celie/OneDrive - ugentbe/NOG NODIG/2de master/Masterproef/Datasets/All_freqs/Peak\"\n",
    "\n",
    "filename = mydir + \"/health_alpha_left_peaks.h5\"\n",
    "with h5py.File(filename, \"r\") as f:\n",
    "    health_left = f[\"data\"]\n",
    "    health_left = np.array(health_left)\n",
    "    \n",
    "filename = mydir + \"/health_alpha_right_peaks.h5\"\n",
    "with h5py.File(filename, \"r\") as f:\n",
    "    health_right = f[\"data\"]\n",
    "    health_right = np.array(health_right)\n",
    "    \n",
    "filename = mydir + \"/depr_alpha_left_peaks.h5\"\n",
    "with h5py.File(filename, \"r\") as f:\n",
    "    depr_left = f[\"data\"]\n",
    "    depr_left = np.array(depr_left)\n",
    "    \n",
    "filename = mydir + \"/health_alpha_right_peaks.h5\"\n",
    "with h5py.File(filename, \"r\") as f:\n",
    "    depr_right = f[\"data\"]\n",
    "    depr_right = np.array(depr_right)"
   ]
  },
  {
   "cell_type": "code",
   "execution_count": 94,
   "id": "thousand-calculator",
   "metadata": {},
   "outputs": [
    {
     "name": "stdout",
     "output_type": "stream",
     "text": [
      "[10.55769332 10.55769332 10.55769332  9.761118  ]\n",
      "[11.93009709 11.93009709 11.93009709  8.45048544]\n",
      "[10.5526557  10.5526557  10.5526557   9.76280701]\n",
      "[[11.93009709 11.93009709 11.93009709  8.45048544]]\n"
     ]
    }
   ],
   "source": [
    "print(health_left)\n",
    "print(health_right)\n",
    "print(depr_left)\n",
    "print(depr_right)"
   ]
  },
  {
   "cell_type": "code",
   "execution_count": 90,
   "id": "proper-brother",
   "metadata": {},
   "outputs": [],
   "source": [
    "health_left= health_left[~numpy.isnan(health_left)]\n",
    "health_right= health_right[~numpy.isnan(health_right)]\n",
    "depr_left= depr_left[~numpy.isnan(depr_left)]\n",
    "depr_left= depr_left[~numpy.isnan(depr_left)]"
   ]
  },
  {
   "cell_type": "code",
   "execution_count": 91,
   "id": "conscious-steps",
   "metadata": {},
   "outputs": [],
   "source": [
    "test = stats.ttest_ind(health_left, health_right).pvalue\n",
    "test2 = stats.ttest_ind(health_left, health_right).pvalue"
   ]
  },
  {
   "cell_type": "code",
   "execution_count": 93,
   "id": "obvious-oracle",
   "metadata": {},
   "outputs": [
    {
     "name": "stdout",
     "output_type": "stream",
     "text": [
      "0.4616410881182924\n",
      "0.4616410881182924\n"
     ]
    }
   ],
   "source": [
    "print(test)\n",
    "print(test2)"
   ]
  },
  {
   "cell_type": "code",
   "execution_count": null,
   "id": "noticed-camping",
   "metadata": {},
   "outputs": [],
   "source": []
  }
 ],
 "metadata": {
  "kernelspec": {
   "display_name": "thesisenv",
   "language": "python",
   "name": "thesisenv"
  },
  "language_info": {
   "codemirror_mode": {
    "name": "ipython",
    "version": 3
   },
   "file_extension": ".py",
   "mimetype": "text/x-python",
   "name": "python",
   "nbconvert_exporter": "python",
   "pygments_lexer": "ipython3",
   "version": "3.7.9"
  }
 },
 "nbformat": 4,
 "nbformat_minor": 5
}
