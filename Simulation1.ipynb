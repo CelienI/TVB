{
 "cells": [
  {
   "cell_type": "code",
   "execution_count": 1,
   "metadata": {},
   "outputs": [
    {
     "name": "stdout",
     "output_type": "stream",
     "text": [
      "Populating the interactive namespace from numpy and matplotlib\n"
     ]
    }
   ],
   "source": [
    "%pylab nbagg"
   ]
  },
  {
   "cell_type": "code",
   "execution_count": 2,
   "metadata": {},
   "outputs": [
    {
     "name": "stderr",
     "output_type": "stream",
     "text": [
      "/mnt/c/Users/celie/OneDrive/Documenten/TVB_Distribution/tvb_data/lib/python2.7/site-packages/tvb/simulator/lab.py:46: UserWarning: \n",
      "This call to matplotlib.use() has no effect because the backend has already\n",
      "been chosen; matplotlib.use() must be called *before* pylab, matplotlib.pyplot,\n",
      "or matplotlib.backends is imported for the first time.\n",
      "\n",
      "The backend was *originally* set to u'nbAgg' by the following code:\n",
      "  File \"/mnt/c/Users/celie/OneDrive/Documenten/TVB_Distribution/tvb_data/lib/python2.7/runpy.py\", line 174, in _run_module_as_main\n",
      "    \"__main__\", fname, loader, pkg_name)\n",
      "  File \"/mnt/c/Users/celie/OneDrive/Documenten/TVB_Distribution/tvb_data/lib/python2.7/runpy.py\", line 72, in _run_code\n",
      "    exec code in run_globals\n",
      "  File \"/mnt/c/Users/celie/OneDrive/Documenten/TVB_Distribution/tvb_data/lib/python2.7/site-packages/ipykernel_launcher.py\", line 16, in <module>\n",
      "    app.launch_new_instance()\n",
      "  File \"/mnt/c/Users/celie/OneDrive/Documenten/TVB_Distribution/tvb_data/lib/python2.7/site-packages/traitlets/config/application.py\", line 658, in launch_instance\n",
      "    app.start()\n",
      "  File \"/mnt/c/Users/celie/OneDrive/Documenten/TVB_Distribution/tvb_data/lib/python2.7/site-packages/ipykernel/kernelapp.py\", line 499, in start\n",
      "    self.io_loop.start()\n",
      "  File \"/mnt/c/Users/celie/OneDrive/Documenten/TVB_Distribution/tvb_data/lib/python2.7/site-packages/tornado/ioloop.py\", line 1073, in start\n",
      "    handler_func(fd_obj, events)\n",
      "  File \"/mnt/c/Users/celie/OneDrive/Documenten/TVB_Distribution/tvb_data/lib/python2.7/site-packages/tornado/stack_context.py\", line 300, in null_wrapper\n",
      "    return fn(*args, **kwargs)\n",
      "  File \"/mnt/c/Users/celie/OneDrive/Documenten/TVB_Distribution/tvb_data/lib/python2.7/site-packages/zmq/eventloop/zmqstream.py\", line 456, in _handle_events\n",
      "    self._handle_recv()\n",
      "  File \"/mnt/c/Users/celie/OneDrive/Documenten/TVB_Distribution/tvb_data/lib/python2.7/site-packages/zmq/eventloop/zmqstream.py\", line 486, in _handle_recv\n",
      "    self._run_callback(callback, msg)\n",
      "  File \"/mnt/c/Users/celie/OneDrive/Documenten/TVB_Distribution/tvb_data/lib/python2.7/site-packages/zmq/eventloop/zmqstream.py\", line 438, in _run_callback\n",
      "    callback(*args, **kwargs)\n",
      "  File \"/mnt/c/Users/celie/OneDrive/Documenten/TVB_Distribution/tvb_data/lib/python2.7/site-packages/tornado/stack_context.py\", line 300, in null_wrapper\n",
      "    return fn(*args, **kwargs)\n",
      "  File \"/mnt/c/Users/celie/OneDrive/Documenten/TVB_Distribution/tvb_data/lib/python2.7/site-packages/ipykernel/kernelbase.py\", line 283, in dispatcher\n",
      "    return self.dispatch_shell(stream, msg)\n",
      "  File \"/mnt/c/Users/celie/OneDrive/Documenten/TVB_Distribution/tvb_data/lib/python2.7/site-packages/ipykernel/kernelbase.py\", line 233, in dispatch_shell\n",
      "    handler(stream, idents, msg)\n",
      "  File \"/mnt/c/Users/celie/OneDrive/Documenten/TVB_Distribution/tvb_data/lib/python2.7/site-packages/ipykernel/kernelbase.py\", line 399, in execute_request\n",
      "    user_expressions, allow_stdin)\n",
      "  File \"/mnt/c/Users/celie/OneDrive/Documenten/TVB_Distribution/tvb_data/lib/python2.7/site-packages/ipykernel/ipkernel.py\", line 208, in do_execute\n",
      "    res = shell.run_cell(code, store_history=store_history, silent=silent)\n",
      "  File \"/mnt/c/Users/celie/OneDrive/Documenten/TVB_Distribution/tvb_data/lib/python2.7/site-packages/ipykernel/zmqshell.py\", line 537, in run_cell\n",
      "    return super(ZMQInteractiveShell, self).run_cell(*args, **kwargs)\n",
      "  File \"/mnt/c/Users/celie/OneDrive/Documenten/TVB_Distribution/tvb_data/lib/python2.7/site-packages/IPython/core/interactiveshell.py\", line 2714, in run_cell\n",
      "    interactivity=interactivity, compiler=compiler, result=result)\n",
      "  File \"/mnt/c/Users/celie/OneDrive/Documenten/TVB_Distribution/tvb_data/lib/python2.7/site-packages/IPython/core/interactiveshell.py\", line 2824, in run_ast_nodes\n",
      "    if self.run_code(code, result):\n",
      "  File \"/mnt/c/Users/celie/OneDrive/Documenten/TVB_Distribution/tvb_data/lib/python2.7/site-packages/IPython/core/interactiveshell.py\", line 2878, in run_code\n",
      "    exec(code_obj, self.user_global_ns, self.user_ns)\n",
      "  File \"<ipython-input-1-b68d5392e757>\", line 1, in <module>\n",
      "    get_ipython().magic(u'pylab nbagg')\n",
      "  File \"/mnt/c/Users/celie/OneDrive/Documenten/TVB_Distribution/tvb_data/lib/python2.7/site-packages/IPython/core/interactiveshell.py\", line 2160, in magic\n",
      "    return self.run_line_magic(magic_name, magic_arg_s)\n",
      "  File \"/mnt/c/Users/celie/OneDrive/Documenten/TVB_Distribution/tvb_data/lib/python2.7/site-packages/IPython/core/interactiveshell.py\", line 2081, in run_line_magic\n",
      "    result = fn(*args,**kwargs)\n",
      "  File \"</mnt/c/Users/celie/OneDrive/Documenten/TVB_Distribution/tvb_data/lib/python2.7/site-packages/decorator.pyc:decorator-gen-106>\", line 2, in pylab\n",
      "  File \"/mnt/c/Users/celie/OneDrive/Documenten/TVB_Distribution/tvb_data/lib/python2.7/site-packages/IPython/core/magic.py\", line 188, in <lambda>\n",
      "    call = lambda f, *a, **k: f(*a, **k)\n",
      "  File \"/mnt/c/Users/celie/OneDrive/Documenten/TVB_Distribution/tvb_data/lib/python2.7/site-packages/IPython/core/magics/pylab.py\", line 156, in pylab\n",
      "    gui, backend, clobbered = self.shell.enable_pylab(args.gui, import_all=import_all)\n",
      "  File \"/mnt/c/Users/celie/OneDrive/Documenten/TVB_Distribution/tvb_data/lib/python2.7/site-packages/IPython/core/interactiveshell.py\", line 3005, in enable_pylab\n",
      "    gui, backend = self.enable_matplotlib(gui)\n",
      "  File \"/mnt/c/Users/celie/OneDrive/Documenten/TVB_Distribution/tvb_data/lib/python2.7/site-packages/IPython/core/interactiveshell.py\", line 2966, in enable_matplotlib\n",
      "    pt.activate_matplotlib(backend)\n",
      "  File \"/mnt/c/Users/celie/OneDrive/Documenten/TVB_Distribution/tvb_data/lib/python2.7/site-packages/IPython/core/pylabtools.py\", line 315, in activate_matplotlib\n",
      "    matplotlib.pyplot.switch_backend(backend)\n",
      "  File \"/mnt/c/Users/celie/OneDrive/Documenten/TVB_Distribution/tvb_data/lib/python2.7/site-packages/matplotlib/pyplot.py\", line 229, in switch_backend\n",
      "    matplotlib.use(newbackend, warn=False, force=True)\n",
      "  File \"/mnt/c/Users/celie/OneDrive/Documenten/TVB_Distribution/tvb_data/lib/python2.7/site-packages/matplotlib/__init__.py\", line 1305, in use\n",
      "    reload(sys.modules['matplotlib.backends'])\n",
      "  File \"/mnt/c/Users/celie/OneDrive/Documenten/TVB_Distribution/tvb_data/lib/python2.7/site-packages/matplotlib/backends/__init__.py\", line 14, in <module>\n",
      "    line for line in traceback.format_stack()\n",
      "\n",
      "\n",
      "  mpl.use('Agg')\n"
     ]
    },
    {
     "name": "stdout",
     "output_type": "stream",
     "text": [
      "   INFO  log level set to INFO\n"
     ]
    },
    {
     "name": "stderr",
     "output_type": "stream",
     "text": [
      "/mnt/c/Users/celie/OneDrive/Documenten/TVB_Distribution/tvb_data/lib/python2.7/site-packages/matplotlib/cbook/deprecation.py:106: MatplotlibDeprecationWarning: The mpl_toolkits.axes_grid module was deprecated in version 2.1. Use mpl_toolkits.axes_grid1 and mpl_toolkits.axisartist provies the same functionality instead.\n",
      "  warnings.warn(message, mplDeprecation, stacklevel=1)\n"
     ]
    }
   ],
   "source": [
    "from tvb.simulator.lab import *\n",
    "\n",
    "# load libraries\n",
    "import csv\n",
    "import matplotlib.pyplot as plt\n",
    "import multiprocessing as mp \n",
    "import numpy as np\n",
    "import os\n",
    "import pandas as pd\n",
    "import scipy\n",
    "import scipy.io as sio\n",
    "import scipy.signal as sig\n",
    "import scipy.stats as stat\n",
    "import sys\n",
    "import zipfile\n",
    "from tvb.simulator.plot.tools import *\n",
    "from tvb.simulator.lab import *\n",
    "#from tvb.simulator.models.wong_wang_exc_io_inh_i import ReducedWongWangExcIOInhI\n",
    "from tvb.datatypes.time_series import TimeSeriesRegion\n",
    "from tvb.analyzers import fmri_balloon\n",
    "import tvb.analyzers.correlation_coefficient as corr_coeff\n",
    "LOG = get_logger('BrainTumor')"
   ]
  },
  {
   "cell_type": "code",
   "execution_count": 3,
   "metadata": {},
   "outputs": [],
   "source": [
    "oscilator = models.ReducedWongWang()"
   ]
  },
  {
   "cell_type": "code",
   "execution_count": 4,
   "metadata": {},
   "outputs": [
    {
     "data": {
      "text/html": [
       "<table width=100%><tr><th>Parameter</th><th>Value</th><th>Description</th></tr><tr><td>I_o</td><td>[0.33]</td><td>[nA] Effective external input</td></tr><tr><td>a</td><td>[0.27]</td><td>[n/C]. Input gain parameter, chosen to fit numerical solutions.</td></tr><tr><td>b</td><td>[0.108]</td><td>[kHz]. Input shift parameter chosen to fit numerical solutions.</td></tr><tr><td>d</td><td>[154.]</td><td>[ms]. Parameter chosen to fit numerical solutions.</td></tr><tr><td>state_variable_range</td><td>{'S': array([0., 1.])}</td><td>Population firing rate</td></tr><tr><td>J_N</td><td>[0.2609]</td><td>Excitatory recurrence</td></tr><tr><td>sigma_noise</td><td>[1.e-09]</td><td>[nA] Noise amplitude. Take this value into account for stochatic\n",
       "        integration schemes.</td></tr><tr><td>w</td><td>[0.6]</td><td>Excitatory recurrence</td></tr><tr><td>variables_of_interest</td><td>['S']</td><td>default state variables to be monitored</td></tr><tr><td>tau_s</td><td>[100.]</td><td>Kinetic parameter. NMDA decay time constant.</td></tr><tr><td>gamma</td><td>[0.641]</td><td>Kinetic parameter</td></tr>"
      ],
      "text/plain": [
       "ReducedWongWang(bound=False, value=None)"
      ]
     },
     "execution_count": 4,
     "metadata": {},
     "output_type": "execute_result"
    }
   ],
   "source": [
    "oscilator"
   ]
  },
  {
   "cell_type": "markdown",
   "metadata": {},
   "source": [
    "Where do I specify the optimized G? Since this parameter doesn't seem to even be in the model when I look at the output above. I tried to do something like this: \"oscilator = models.ReducedWongWang(G = xx)\" where xx was the optimized value, but this gave an error. \n",
    "Same question for the optimised J_i variable because I also don't see that variable here. "
   ]
  },
  {
   "cell_type": "code",
   "execution_count": null,
   "metadata": {},
   "outputs": [],
   "source": []
  }
 ],
 "metadata": {
  "kernelspec": {
   "display_name": "Python 2",
   "language": "python",
   "name": "python2"
  },
  "language_info": {
   "codemirror_mode": {
    "name": "ipython",
    "version": 2
   },
   "file_extension": ".py",
   "mimetype": "text/x-python",
   "name": "python",
   "nbconvert_exporter": "python",
   "pygments_lexer": "ipython2",
   "version": "2.7.16"
  }
 },
 "nbformat": 4,
 "nbformat_minor": 2
}
