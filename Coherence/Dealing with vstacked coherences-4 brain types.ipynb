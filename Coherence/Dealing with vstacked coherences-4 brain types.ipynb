{
 "cells": [
  {
   "cell_type": "code",
   "execution_count": null,
   "id": "average-tooth",
   "metadata": {},
   "outputs": [],
   "source": [
    "import h5py\n",
    "import os\n",
    "%pylab nbagg"
   ]
  },
  {
   "cell_type": "code",
   "execution_count": null,
   "id": "minute-change",
   "metadata": {},
   "outputs": [],
   "source": [
    "%pylab nbagg\n",
    "import h5py\n",
    "import os\n",
    "import matplotlib.pyplot as plt\n",
    "import pandas as pd\n",
    "\n",
    "import scipy \n",
    "import scipy.fftpack\n",
    "import seaborn as sns\n",
    "\n",
    "from scipy.fft import fft, ifft\n",
    "from scipy import signal\n",
    "\n",
    "from scipy import stats"
   ]
  },
  {
   "cell_type": "code",
   "execution_count": null,
   "id": "acting-disclosure",
   "metadata": {},
   "outputs": [],
   "source": [
    "os.chdir(\"C:/Users/celie/OneDrive - ugentbe/NOG NODIG/2de master/Masterproef/Datasets/Second\")\n",
    "mydir = \"C:/Users/celie/OneDrive - ugentbe/NOG NODIG/2de master/Masterproef/Datasets/Second\""
   ]
  },
  {
   "cell_type": "code",
   "execution_count": null,
   "id": "representative-classics",
   "metadata": {},
   "outputs": [],
   "source": [
    "import pandas as pd \n",
    "filename = mydir + \"/Health_ROI_order.csv\"\n",
    "ROI_H = pd.read_csv(filename)\n",
    "ROI_H = np.array(ROI_H)\n",
    "\n",
    "filename = mydir + \"/Depr_ROI_order.csv\"\n",
    "ROID = pd.read_csv(filename)\n",
    "ROI_D = np.array(ROID)\n",
    "\n",
    "filename = mydir + \"//HF_ROI_order.csv.csv\"\n",
    "ROIHF = pd.read_csv(filename)\n",
    "ROI_HF = np.array(ROIHF)\n",
    "\n",
    "filename = mydir + \"/LF_ROI_order.csv\"\n",
    "ROILF = pd.read_csv(filename)\n",
    "ROI_LF = np.array(ROILF)"
   ]
  },
  {
   "cell_type": "code",
   "execution_count": null,
   "id": "familiar-committee",
   "metadata": {},
   "outputs": [],
   "source": [
    "filename = mydir + \"/Depr_coh_total_hstacked100.h5\"\n",
    "with h5py.File(filename, \"r\") as f:\n",
    "     Depr = f['data'][:]"
   ]
  },
  {
   "cell_type": "code",
   "execution_count": null,
   "id": "bridal-suite",
   "metadata": {},
   "outputs": [],
   "source": [
    "filename = mydir + \"/Health_coh_total_hstacked100.h5\"\n",
    "with h5py.File(filename, \"r\") as f:\n",
    "     Health = f['data'][:]"
   ]
  },
  {
   "cell_type": "code",
   "execution_count": null,
   "id": "hundred-catholic",
   "metadata": {},
   "outputs": [],
   "source": [
    "filename = mydir + \"/HF_coh_total_hstacked100.h5\"\n",
    "with h5py.File(filename, \"r\") as f:\n",
    "     HF = f['data'][:]"
   ]
  },
  {
   "cell_type": "code",
   "execution_count": null,
   "id": "illegal-gibson",
   "metadata": {},
   "outputs": [],
   "source": [
    "filename = mydir + \"/LF_coh_total_hstacked100.h5\"\n",
    "with h5py.File(filename, \"r\") as f:\n",
    "     LF = f['data'][:]"
   ]
  },
  {
   "cell_type": "code",
   "execution_count": null,
   "id": "senior-blues",
   "metadata": {},
   "outputs": [],
   "source": [
    "print(shape(Depr))\n",
    "print(shape(Health))\n",
    "print(shape(HF))\n",
    "print(shape(LF))"
   ]
  },
  {
   "cell_type": "code",
   "execution_count": null,
   "id": "incident-darwin",
   "metadata": {},
   "outputs": [],
   "source": [
    "print(shape(ROI_D))\n",
    "print(shape(ROI_H))\n",
    "print(shape(ROI_HF))\n",
    "print(shape(ROI_LF))"
   ]
  },
  {
   "cell_type": "code",
   "execution_count": null,
   "id": "armed-cardiff",
   "metadata": {},
   "outputs": [],
   "source": [
    "n_pairs = 28\n",
    "counter = 0\n",
    "for i in range(n_pairs):\n",
    "    for b in range(n_pairs):\n",
    "        if i == b:\n",
    "            pass\n",
    "        elif i > b:\n",
    "            pass\n",
    "        else:\n",
    "            counter = counter + 1\n",
    "print(counter)"
   ]
  },
  {
   "cell_type": "code",
   "execution_count": null,
   "id": "alpine-intersection",
   "metadata": {},
   "outputs": [],
   "source": [
    "c1 = np.repeat(\"\", 1)\n",
    "c2 = np.repeat(\"\",1)\n",
    "\n",
    "n_pairs = len(ROI_D)\n",
    "sig_count = False \n",
    "base = numpy.zeros(shape=(1,14)) \n",
    "#ROI1, ROI2, mean (4 times), sd (4 times), p value (H_D, H_HF, H_LF, D_HF, D_LF, HF_LF)\n",
    "sign_array = np.column_stack([c1, c2, base])\n",
    "sign_array_tot= np.column_stack([c1, c2, base])\n",
    "\n",
    "p_array = np.column_stack([c1, c2,base])\n",
    "p_array_tot= np.column_stack([c1, c2, base])\n",
    "\n",
    "for i in range(n_pairs):\n",
    "    data_dep = Depr[i]\n",
    "    data_health = Health[i]\n",
    "    data_HF = Depr[i]#HF[i]\n",
    "    data_LF = Health[i]#LF[i]\n",
    "    \n",
    "    ROI1 = ROI_D[i][0]\n",
    "    ROI2 = ROI_D[i][1]\n",
    "    \n",
    "    #p_values\n",
    "    p_H_D = stats.ttest_ind(data_dep, data_health).pvalue\n",
    "    p_H_LF = stats.ttest_ind(data_LF, data_health).pvalue\n",
    "    p_H_HF = stats.ttest_ind(data_HF, data_health).pvalue\n",
    "    p_D_LF = stats.ttest_ind(data_dep, data_LF).pvalue\n",
    "    p_D_HF = stats.ttest_ind(data_dep, data_HF).pvalue\n",
    "    p_HF_LF = stats.ttest_ind(data_LF, data_HF).pvalue\n",
    "    \n",
    "    #make general p_value output (for all comparisons)\n",
    "    p_array[0][0] = str(ROI1)\n",
    "    p_array[0][1] = str(ROI2)\n",
    "    p_array[0][2] = mean(data_dep)\n",
    "    p_array[0][3] = mean(data_health)\n",
    "    p_array[0][4] = mean(data_HF)\n",
    "    p_array[0][5] = mean(data_LF)\n",
    "    p_array[0][6] = std(data_dep)\n",
    "    p_array[0][7] = std(data_health)\n",
    "    p_array[0][8] = std(data_HF)\n",
    "    p_array[0][9] = std(data_LF)\n",
    "    p_array[0][10] = p_H_D\n",
    "    p_array[0][11] = p_H_LF\n",
    "    p_array[0][12] = p_H_HF\n",
    "    p_array[0][13] = p_D_LF\n",
    "    p_array[0][14] = p_D_HF\n",
    "    p_array[0][15] = p_HF_LF\n",
    "    \n",
    "    \n",
    "    \n",
    "    #if any of p-values is significant: store these regions and all p-values corresponding in the significant matrix\n",
    "    if p_H_D <= 0.05 or p_H_LF <= 0.05 or p_H_HF <= 0.05 or p_D_LF <= 0.05 or p_D_HF <= 0.05 or p_HF_LF <= 0.05:\n",
    "        sign_array[0][0] = str(ROI1)\n",
    "        sign_array[0][1] = str(ROI2)\n",
    "        sign_array[0][2] = mean(data_dep)\n",
    "        sign_array[0][3] = mean(data_health)\n",
    "        sign_array[0][4] = mean(data_HF)\n",
    "        sign_array[0][5] = mean(data_LF)\n",
    "        sign_array[0][6] = std(data_dep)\n",
    "        sign_array[0][7] = std(data_health)\n",
    "        sign_array[0][8] = std(data_HF)\n",
    "        sign_array[0][9] = std(data_LF)\n",
    "        sign_array[0][10] = p_H_D\n",
    "        sign_array[0][11] = p_H_LF\n",
    "        sign_array[0][12] = p_H_HF\n",
    "        sign_array[0][13] = p_D_LF\n",
    "        sign_array[0][14] = p_D_HF\n",
    "        sign_array[0][15] = p_HF_LF\n",
    "        \n",
    "        \n",
    "        if sig_count == False :\n",
    "            sign_array_tot = sign_array\n",
    "            sig_count = True \n",
    "        else:\n",
    "            tupley = (sign_array_tot, sign_array)\n",
    "            sign_array_tot = np.vstack(tupley)\n",
    " \n",
    "    \n",
    "    if i == 0:\n",
    "        p_array_tot = p_array\n",
    "    else:\n",
    "        tuplex = (p_array_tot, p_array)\n",
    "        p_array_tot = np.vstack(tuplex)\n",
    "\n",
    "        \n",
    "        \n",
    "file_name = mydir + \"/significance_coherence.csv\"\n",
    "outcome = pd.DataFrame.from_records(sign_array_tot)\n",
    "outcome.columns = [\"ROI1\", \"ROI2\", \"meanDEP\", \"meanHEALTH\", \"meanHF\", \"meanLF\",\"stdDEP\", \"stdHEALTH\",\"stdHF\",\"stdLF\",\"p HD\",\n",
    "                  \"p H_LF\", \"p H_HF\",\"p D_LF\", \"p D_HF\",'p_HF_LF']\n",
    "outcome.to_csv(path_or_buf = file_name, index = False)\n",
    "        \n",
    "    \n",
    "file_name = mydir + \"/all_p-values_coherence.csv\"\n",
    "outcome = pd.DataFrame.from_records(p_array_tot)\n",
    "outcome.columns = [\"ROI1\", \"ROI2\", \"meanDEP\", \"meanHEALTH\", \"meanHF\", \"meanLF\",\"stdDEP\", \"stdHEALTH\",\"stdHF\",\"stdLF\",\"p HD\",\n",
    "                  \"p H_LF\", \"p H_HF\",\"p D_LF\", \"p D_HF\",'p_HF_LF']\n",
    "outcome.to_csv(path_or_buf = file_name, index = False)"
   ]
  },
  {
   "cell_type": "code",
   "execution_count": null,
   "id": "governing-tiger",
   "metadata": {},
   "outputs": [],
   "source": []
  }
 ],
 "metadata": {
  "kernelspec": {
   "display_name": "thesisenv",
   "language": "python",
   "name": "thesisenv"
  },
  "language_info": {
   "codemirror_mode": {
    "name": "ipython",
    "version": 3
   },
   "file_extension": ".py",
   "mimetype": "text/x-python",
   "name": "python",
   "nbconvert_exporter": "python",
   "pygments_lexer": "ipython3",
   "version": "3.7.9"
  }
 },
 "nbformat": 4,
 "nbformat_minor": 5
}
